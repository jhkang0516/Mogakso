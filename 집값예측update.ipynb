{
  "nbformat": 4,
  "nbformat_minor": 0,
  "metadata": {
    "colab": {
      "provenance": [],
      "authorship_tag": "ABX9TyOoCqTHqJXgdpUSmCBTrn9J",
      "include_colab_link": true
    },
    "kernelspec": {
      "name": "python3",
      "display_name": "Python 3"
    },
    "language_info": {
      "name": "python"
    }
  },
  "cells": [
    {
      "cell_type": "markdown",
      "metadata": {
        "id": "view-in-github",
        "colab_type": "text"
      },
      "source": [
        "<a href=\"https://colab.research.google.com/github/jhkang0516/Mogakso/blob/main/%EC%A7%91%EA%B0%92%EC%98%88%EC%B8%A1update.ipynb\" target=\"_parent\"><img src=\"https://colab.research.google.com/assets/colab-badge.svg\" alt=\"Open In Colab\"/></a>"
      ]
    },
    {
      "cell_type": "code",
      "source": [
        "from google.colab import drive\n",
        "drive.mount('/content/drive')"
      ],
      "metadata": {
        "colab": {
          "base_uri": "https://localhost:8080/"
        },
        "id": "b8VGGqL6SxYS",
        "outputId": "c5f61961-9944-43e6-9bcb-21cada25ed25"
      },
      "execution_count": 1,
      "outputs": [
        {
          "output_type": "stream",
          "name": "stdout",
          "text": [
            "Mounted at /content/drive\n"
          ]
        }
      ]
    },
    {
      "cell_type": "code",
      "source": [
        "import pandas as pd\n",
        "import numpy as np\n",
        "from sklearn.model_selection import train_test_split\n",
        "from sklearn.preprocessing import StandardScaler\n",
        "from sklearn.ensemble import GradientBoostingRegressor\n",
        "from sklearn.metrics import mean_squared_error\n",
        "\n",
        "# Load the data\n",
        "train_data = pd.read_csv('/content/drive/MyDrive/Colab Notebooks/HousePrice/train.csv')\n",
        "test_data = pd.read_csv('/content/drive/MyDrive/Colab Notebooks/HousePrice/test.csv')\n",
        "\n",
        "\n",
        "# Split the data into input and target\n",
        "X_train = train_data.drop(['MEDV','ID'], axis=1)\n",
        "y_train = train_data['MEDV']\n",
        "\n",
        "# Standardize the data\n",
        "scaler = StandardScaler()\n",
        "X_train = scaler.fit_transform(X_train)\n",
        "\n",
        "# Train a Gradient Boosting model\n",
        "model = GradientBoostingRegressor(n_estimators=100, learning_rate=0.1, max_depth=1, random_state=0, loss='squared_error')\n",
        "model.fit(X_train, y_train)\n",
        "\n",
        "# Prepare the test data\n",
        "X_test = test_data.drop('ID', axis=1)\n",
        "\n",
        "\n",
        "# Standardize the test data\n",
        "X_test = scaler.transform(X_test)\n",
        "\n",
        "# Predict on the test data\n",
        "predictions = model.predict(X_test)\n",
        "\n",
        "# Create ID column\n",
        "ID = ['TEST_{:03d}'.format(i) for i in range(len(test_data))]\n",
        "\n",
        "# Save the predictions to a CSV file\n",
        "submission = pd.DataFrame({'ID': ID, 'MEDV': predictions})\n",
        "submission.to_csv('/content/drive/MyDrive/Colab Notebooks/HousePrice/sample_submission.csv', index=False)\n"
      ],
      "metadata": {
        "id": "aE46qQdqTDLf"
      },
      "execution_count": 33,
      "outputs": []
    }
  ]
}